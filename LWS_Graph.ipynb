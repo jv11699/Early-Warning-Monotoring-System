{
 "cells": [
  {
   "cell_type": "code",
   "execution_count": null,
   "metadata": {},
   "outputs": [],
   "source": []
  },
  {
   "cell_type": "code",
   "execution_count": 1,
   "metadata": {},
   "outputs": [],
   "source": [
    "'''\n",
    "  Note: The way a map is formed onto a graph is by taking the data points, which contains its coordinates, and plotting it onto the graph based \n",
    "  on longitude and latitude. Thus,this requires a lot data to get the outline of how the physical location looks like. Since Lower West Side has\n",
    "  only 8 data points, and the other areas having similar quantity, we are not able to produce a graph that looks like a map with this method.\n",
    "  \n",
    "  However, we are trying to use the data produced in this file by merging it with the shapefile.\n",
    "  \n",
    "  Resource used: https://www.kaggle.com/muonneutrino/mapping-new-york-city-census-data\n",
    "'''\n",
    "#Code taken from \n",
    "import random as ran\n",
    "def convert_to_2d(lats,lons,values,geometry):\n",
    "    latmin = 42.88\n",
    "    lonmin = -78.9095821\n",
    "    latmax = 42.91\n",
    "    lonmax = -78.86\n",
    "    lon_vals = np.mgrid[lonmin:lonmax:100j]\n",
    "    lat_vals = np.mgrid[latmin:latmax:100j]\n",
    "    map_values = np.zeros([100,100])\n",
    "    dlat = lat_vals[1] - lat_vals[0]\n",
    "    dlon = lon_vals[1] - lon_vals[0]\n",
    "      \n",
    "    for lat,lon,value,geo in zip(lats,lons,values,geometry):\n",
    "        lat_idx = int(np.rint((lat - latmin) / dlat)) \n",
    "        lon_idx = int(np.rint((lon-lonmin) / dlon )) \n",
    "        \n",
    "        polygon = Polygon(geo)\n",
    "        point =  Point(lat, lon)\n",
    "        poly_bounds = polygon.bounds\n",
    "        if not np.isnan(value):\n",
    "  # VOLTAIRE ADDITION -- inside the ran.uniform should be the edges of the shape file to complete the whole block image\n",
    "            for x in range(int(value) * 100): # this is to make the data visible\n",
    "                ran_lon_idx = int(np.rint((ran.uniform(poly_bounds[0],poly_bounds[2]) - lonmin) / dlon))\n",
    "                ran_lat_idx = int(np.rint((ran.uniform(poly_bounds[1],poly_bounds[3]) - latmin) / dlat)) \n",
    "              \n",
    "                if ran_lat_idx < 100 and ran_lon_idx < 100 and map_values[ran_lon_idx,ran_lat_idx] == 0: \n",
    "                    map_values[ran_lon_idx,ran_lat_idx] = value\n",
    "            # -- \n",
    "    return lat_vals,lon_vals,map_values\n",
    "\n",
    "def make_plot(data_values,title='',colors='Greens'):\n",
    "    lat_vals,lon_vals,values = convert_to_2d(fruit_belt.INTPTLAT,fruit_belt.INTPTLON,data_values,fruit_belt.geometry)\n",
    " \n",
    "  \n",
    "    fig, ax = plt.subplots(1,figsize=[10,10])\n",
    "    limits = np.min(lon_vals),np.max(lon_vals),np.min(lat_vals),np.max(lat_vals)\n",
    "   \n",
    "    im = plt.imshow(values.T,origin='lower',cmap=colors,extent=limits)\n",
    "    plt.xlabel('Longitude [degrees]')\n",
    "    plt.ylabel('Latitude [degrees]')\n",
    "    plt.title(title)\n",
    "\n",
    "    plt.colorbar(im,fraction=0.035, pad=0.04)\n",
    "   \n",
    "    plt.show()\n",
    "    \n"
   ]
  },
  {
   "cell_type": "code",
   "execution_count": 2,
   "metadata": {},
   "outputs": [
    {
     "data": {
      "image/png": "[encoded data removed]",
      "text/plain": [
       "<Figure size 720x720 with 2 Axes>"
      ]
     },
     "metadata": {
      "needs_background": "light"
     },
     "output_type": "display_data"
    }
   ],
   "source": [
    "from shapely.geometry import Point\n",
    "from shapely.geometry.polygon import Polygon\n",
    "import numpy as np \n",
    "import pandas as pd \n",
    "from matplotlib import collections\n",
    "import geopandas\n",
    "import matplotlib.pyplot as plt\n",
    "%matplotlib inline\n",
    "\n",
    "block_grp = geopandas.read_file(\"2018NYblockgrpSF/tl_2018_36_bg.shp\")\n",
    "block_grp = block_grp.rename(columns={'TRACTCE': 'Tract', 'BLKGRPCE': 'Block Group'})\n",
    "fruit_belt = geopandas.read_file('LowerWestSide_Data.csv') #Get this file from LowerWestSide_py\n",
    "del fruit_belt['geometry']\n",
    "fb_data_to_float = fruit_belt.filter(like = 'Total').astype(float)\n",
    "fb_data_to_float['Block Group'] = fruit_belt['Block Group']\n",
    "fb_data_to_float['Tract'] = fruit_belt['Tract']\n",
    "fruit_belt = fb_data_to_float\n",
    "fruit_belt =  fruit_belt.merge(block_grp,on = ['Tract','Block Group'])\n",
    "fruit_belt['INTPTLAT'] = fruit_belt['INTPTLAT'].astype(float)\n",
    "fruit_belt['INTPTLON'] = fruit_belt['INTPTLON'].astype(float)\n",
    "\n",
    "# ===================================================================================\n",
    "make_plot(fruit_belt['Percent of Total Number of Vacant Housing Units'],colors='Blues',title='Percent of Total Number of Vacant Housing Units')"
   ]
  },
  {
   "cell_type": "code",
   "execution_count": null,
   "metadata": {},
   "outputs": [],
   "source": []
  },
  {
   "cell_type": "code",
   "execution_count": null,
   "metadata": {},
   "outputs": [],
   "source": []
  }
 ],
 "metadata": {
  "kernelspec": {
   "display_name": "Python 3",
   "language": "python",
   "name": "python3"
  },
  "language_info": {
   "codemirror_mode": {
    "name": "ipython",
    "version": 3
   },
   "file_extension": ".py",
   "mimetype": "text/x-python",
   "name": "python",
   "nbconvert_exporter": "python",
   "pygments_lexer": "ipython3",
   "version": "3.7.3"
  }
 },
 "nbformat": 4,
 "nbformat_minor": 2
}
